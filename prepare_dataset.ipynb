{
 "cells": [
  {
   "cell_type": "code",
   "execution_count": 13,
   "id": "e750b93a",
   "metadata": {},
   "outputs": [],
   "source": [
    "from datasets import load_dataset\n",
    "import json\n",
    "from tqdm import tqdm"
   ]
  },
  {
   "cell_type": "code",
   "execution_count": 14,
   "id": "7c49a6f6",
   "metadata": {},
   "outputs": [
    {
     "name": "stderr",
     "output_type": "stream",
     "text": [
      "28281it [00:02, 13587.79it/s]\n"
     ]
    }
   ],
   "source": [
    "dataset = load_dataset(\"nvidia/OpenMathReasoning\", split=\"genselect\")\n",
    "\n",
    "# Convert to Qwen format\n",
    "qwen_data = []\n",
    "for i, example in tqdm(enumerate(dataset)):\n",
    "    user_query = example.get(\"problem\", \"\").strip()\n",
    "    assistant_response = example.get(\"generated_solution\", \"\").strip()\n",
    "\n",
    "    # Skip if either field is missing\n",
    "    if not user_query or not assistant_response:\n",
    "        continue\n",
    "\n",
    "    qwen_data.append({\n",
    "        \"id\": f\"math_{i}\",\n",
    "        \"conversations\": [\n",
    "            {\"from\": \"user\", \"value\": user_query},\n",
    "            {\"from\": \"assistant\", \"value\": assistant_response}\n",
    "        ]\n",
    "    })\n",
    "    if i==28281:\n",
    "        break\n",
    "\n",
    "# Save to JSON file\n",
    "with open(\"/mnt/efs/hcdai/projects/Github/datasets/qwen_openmath_genselect.json\", \"w\", encoding=\"utf-8\") as f:\n",
    "    json.dump(qwen_data, f, ensure_ascii=False, indent=2)"
   ]
  }
 ],
 "metadata": {
  "kernelspec": {
   "display_name": "Python 3",
   "language": "python",
   "name": "python3"
  },
  "language_info": {
   "codemirror_mode": {
    "name": "ipython",
    "version": 3
   },
   "file_extension": ".py",
   "mimetype": "text/x-python",
   "name": "python",
   "nbconvert_exporter": "python",
   "pygments_lexer": "ipython3",
   "version": "3.12.6"
  }
 },
 "nbformat": 4,
 "nbformat_minor": 5
}
